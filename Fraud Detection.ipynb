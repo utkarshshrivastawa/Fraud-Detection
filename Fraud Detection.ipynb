{
 "cells": [
  {
   "cell_type": "markdown",
   "id": "780b8582-9123-488e-958c-36dfc30db126",
   "metadata": {},
   "source": [
    "### Importing the required Library"
   ]
  },
  {
   "cell_type": "code",
   "execution_count": 38,
   "id": "e73bad4b-f77e-4b58-8c4f-1b3bec7fa673",
   "metadata": {},
   "outputs": [],
   "source": [
    "import numpy as np \n",
    "import pandas as pd \n",
    "from sklearn.model_selection import train_test_split\n",
    "from sklearn.ensemble import RandomForestClassifier\n",
    "from sklearn.metrics import accuracy_score, classification_report, confusion_matrix, roc_auc_score\n",
    "from sklearn.tree import DecisionTreeClassifier\n",
    "import seaborn as sns\n",
    "import matplotlib.pyplot as plt\n"
   ]
  },
  {
   "cell_type": "markdown",
   "id": "3a6e7ba2-d520-407c-ac14-c49dccee8b43",
   "metadata": {},
   "source": [
    "### Loading the dataset to pandas DataFrame "
   ]
  },
  {
   "cell_type": "code",
   "execution_count": 2,
   "id": "156c9b1a-4b4f-4e03-8d48-2e73611fddbe",
   "metadata": {},
   "outputs": [],
   "source": [
    "Fraud_data = pd.read_csv(r\"C:\\Users\\utkar\\Desktop\\Accredian\\Fraud.csv\")"
   ]
  },
  {
   "cell_type": "code",
   "execution_count": 3,
   "id": "5ece8eaa-d6df-440d-8df8-5ebf9b5ca24e",
   "metadata": {},
   "outputs": [
    {
     "data": {
      "text/html": [
       "<div>\n",
       "<style scoped>\n",
       "    .dataframe tbody tr th:only-of-type {\n",
       "        vertical-align: middle;\n",
       "    }\n",
       "\n",
       "    .dataframe tbody tr th {\n",
       "        vertical-align: top;\n",
       "    }\n",
       "\n",
       "    .dataframe thead th {\n",
       "        text-align: right;\n",
       "    }\n",
       "</style>\n",
       "<table border=\"1\" class=\"dataframe\">\n",
       "  <thead>\n",
       "    <tr style=\"text-align: right;\">\n",
       "      <th></th>\n",
       "      <th>step</th>\n",
       "      <th>type</th>\n",
       "      <th>amount</th>\n",
       "      <th>nameOrig</th>\n",
       "      <th>oldbalanceOrg</th>\n",
       "      <th>newbalanceOrig</th>\n",
       "      <th>nameDest</th>\n",
       "      <th>oldbalanceDest</th>\n",
       "      <th>newbalanceDest</th>\n",
       "      <th>isFraud</th>\n",
       "      <th>isFlaggedFraud</th>\n",
       "    </tr>\n",
       "  </thead>\n",
       "  <tbody>\n",
       "    <tr>\n",
       "      <th>0</th>\n",
       "      <td>1</td>\n",
       "      <td>PAYMENT</td>\n",
       "      <td>9839.64</td>\n",
       "      <td>C1231006815</td>\n",
       "      <td>170136.0</td>\n",
       "      <td>160296.36</td>\n",
       "      <td>M1979787155</td>\n",
       "      <td>0.0</td>\n",
       "      <td>0.0</td>\n",
       "      <td>0</td>\n",
       "      <td>0</td>\n",
       "    </tr>\n",
       "    <tr>\n",
       "      <th>1</th>\n",
       "      <td>1</td>\n",
       "      <td>PAYMENT</td>\n",
       "      <td>1864.28</td>\n",
       "      <td>C1666544295</td>\n",
       "      <td>21249.0</td>\n",
       "      <td>19384.72</td>\n",
       "      <td>M2044282225</td>\n",
       "      <td>0.0</td>\n",
       "      <td>0.0</td>\n",
       "      <td>0</td>\n",
       "      <td>0</td>\n",
       "    </tr>\n",
       "    <tr>\n",
       "      <th>2</th>\n",
       "      <td>1</td>\n",
       "      <td>TRANSFER</td>\n",
       "      <td>181.00</td>\n",
       "      <td>C1305486145</td>\n",
       "      <td>181.0</td>\n",
       "      <td>0.00</td>\n",
       "      <td>C553264065</td>\n",
       "      <td>0.0</td>\n",
       "      <td>0.0</td>\n",
       "      <td>1</td>\n",
       "      <td>0</td>\n",
       "    </tr>\n",
       "    <tr>\n",
       "      <th>3</th>\n",
       "      <td>1</td>\n",
       "      <td>CASH_OUT</td>\n",
       "      <td>181.00</td>\n",
       "      <td>C840083671</td>\n",
       "      <td>181.0</td>\n",
       "      <td>0.00</td>\n",
       "      <td>C38997010</td>\n",
       "      <td>21182.0</td>\n",
       "      <td>0.0</td>\n",
       "      <td>1</td>\n",
       "      <td>0</td>\n",
       "    </tr>\n",
       "    <tr>\n",
       "      <th>4</th>\n",
       "      <td>1</td>\n",
       "      <td>PAYMENT</td>\n",
       "      <td>11668.14</td>\n",
       "      <td>C2048537720</td>\n",
       "      <td>41554.0</td>\n",
       "      <td>29885.86</td>\n",
       "      <td>M1230701703</td>\n",
       "      <td>0.0</td>\n",
       "      <td>0.0</td>\n",
       "      <td>0</td>\n",
       "      <td>0</td>\n",
       "    </tr>\n",
       "  </tbody>\n",
       "</table>\n",
       "</div>"
      ],
      "text/plain": [
       "   step      type    amount     nameOrig  oldbalanceOrg  newbalanceOrig  \\\n",
       "0     1   PAYMENT   9839.64  C1231006815       170136.0       160296.36   \n",
       "1     1   PAYMENT   1864.28  C1666544295        21249.0        19384.72   \n",
       "2     1  TRANSFER    181.00  C1305486145          181.0            0.00   \n",
       "3     1  CASH_OUT    181.00   C840083671          181.0            0.00   \n",
       "4     1   PAYMENT  11668.14  C2048537720        41554.0        29885.86   \n",
       "\n",
       "      nameDest  oldbalanceDest  newbalanceDest  isFraud  isFlaggedFraud  \n",
       "0  M1979787155             0.0             0.0        0               0  \n",
       "1  M2044282225             0.0             0.0        0               0  \n",
       "2   C553264065             0.0             0.0        1               0  \n",
       "3    C38997010         21182.0             0.0        1               0  \n",
       "4  M1230701703             0.0             0.0        0               0  "
      ]
     },
     "execution_count": 3,
     "metadata": {},
     "output_type": "execute_result"
    }
   ],
   "source": [
    "# first 5 rows and column\n",
    "Fraud_data.head()"
   ]
  },
  {
   "cell_type": "code",
   "execution_count": 4,
   "id": "051602ae-be27-4b1e-89d4-8c0a21e3b2fe",
   "metadata": {},
   "outputs": [
    {
     "name": "stdout",
     "output_type": "stream",
     "text": [
      "<class 'pandas.core.frame.DataFrame'>\n",
      "RangeIndex: 6362620 entries, 0 to 6362619\n",
      "Data columns (total 11 columns):\n",
      " #   Column          Dtype  \n",
      "---  ------          -----  \n",
      " 0   step            int64  \n",
      " 1   type            object \n",
      " 2   amount          float64\n",
      " 3   nameOrig        object \n",
      " 4   oldbalanceOrg   float64\n",
      " 5   newbalanceOrig  float64\n",
      " 6   nameDest        object \n",
      " 7   oldbalanceDest  float64\n",
      " 8   newbalanceDest  float64\n",
      " 9   isFraud         int64  \n",
      " 10  isFlaggedFraud  int64  \n",
      "dtypes: float64(5), int64(3), object(3)\n",
      "memory usage: 534.0+ MB\n"
     ]
    }
   ],
   "source": [
    "# Information of the dataset \n",
    "Fraud_data.info()"
   ]
  },
  {
   "cell_type": "code",
   "execution_count": 5,
   "id": "c293d0e1-fad8-4a69-ad50-0d7e2b64712b",
   "metadata": {},
   "outputs": [
    {
     "data": {
      "text/html": [
       "<div>\n",
       "<style scoped>\n",
       "    .dataframe tbody tr th:only-of-type {\n",
       "        vertical-align: middle;\n",
       "    }\n",
       "\n",
       "    .dataframe tbody tr th {\n",
       "        vertical-align: top;\n",
       "    }\n",
       "\n",
       "    .dataframe thead th {\n",
       "        text-align: right;\n",
       "    }\n",
       "</style>\n",
       "<table border=\"1\" class=\"dataframe\">\n",
       "  <thead>\n",
       "    <tr style=\"text-align: right;\">\n",
       "      <th></th>\n",
       "      <th>step</th>\n",
       "      <th>amount</th>\n",
       "      <th>oldbalanceOrg</th>\n",
       "      <th>newbalanceOrig</th>\n",
       "      <th>oldbalanceDest</th>\n",
       "      <th>newbalanceDest</th>\n",
       "      <th>isFraud</th>\n",
       "      <th>isFlaggedFraud</th>\n",
       "    </tr>\n",
       "  </thead>\n",
       "  <tbody>\n",
       "    <tr>\n",
       "      <th>count</th>\n",
       "      <td>6.362620e+06</td>\n",
       "      <td>6.362620e+06</td>\n",
       "      <td>6.362620e+06</td>\n",
       "      <td>6.362620e+06</td>\n",
       "      <td>6.362620e+06</td>\n",
       "      <td>6.362620e+06</td>\n",
       "      <td>6.362620e+06</td>\n",
       "      <td>6.362620e+06</td>\n",
       "    </tr>\n",
       "    <tr>\n",
       "      <th>mean</th>\n",
       "      <td>2.433972e+02</td>\n",
       "      <td>1.798619e+05</td>\n",
       "      <td>8.338831e+05</td>\n",
       "      <td>8.551137e+05</td>\n",
       "      <td>1.100702e+06</td>\n",
       "      <td>1.224996e+06</td>\n",
       "      <td>1.290820e-03</td>\n",
       "      <td>2.514687e-06</td>\n",
       "    </tr>\n",
       "    <tr>\n",
       "      <th>std</th>\n",
       "      <td>1.423320e+02</td>\n",
       "      <td>6.038582e+05</td>\n",
       "      <td>2.888243e+06</td>\n",
       "      <td>2.924049e+06</td>\n",
       "      <td>3.399180e+06</td>\n",
       "      <td>3.674129e+06</td>\n",
       "      <td>3.590480e-02</td>\n",
       "      <td>1.585775e-03</td>\n",
       "    </tr>\n",
       "    <tr>\n",
       "      <th>min</th>\n",
       "      <td>1.000000e+00</td>\n",
       "      <td>0.000000e+00</td>\n",
       "      <td>0.000000e+00</td>\n",
       "      <td>0.000000e+00</td>\n",
       "      <td>0.000000e+00</td>\n",
       "      <td>0.000000e+00</td>\n",
       "      <td>0.000000e+00</td>\n",
       "      <td>0.000000e+00</td>\n",
       "    </tr>\n",
       "    <tr>\n",
       "      <th>25%</th>\n",
       "      <td>1.560000e+02</td>\n",
       "      <td>1.338957e+04</td>\n",
       "      <td>0.000000e+00</td>\n",
       "      <td>0.000000e+00</td>\n",
       "      <td>0.000000e+00</td>\n",
       "      <td>0.000000e+00</td>\n",
       "      <td>0.000000e+00</td>\n",
       "      <td>0.000000e+00</td>\n",
       "    </tr>\n",
       "    <tr>\n",
       "      <th>50%</th>\n",
       "      <td>2.390000e+02</td>\n",
       "      <td>7.487194e+04</td>\n",
       "      <td>1.420800e+04</td>\n",
       "      <td>0.000000e+00</td>\n",
       "      <td>1.327057e+05</td>\n",
       "      <td>2.146614e+05</td>\n",
       "      <td>0.000000e+00</td>\n",
       "      <td>0.000000e+00</td>\n",
       "    </tr>\n",
       "    <tr>\n",
       "      <th>75%</th>\n",
       "      <td>3.350000e+02</td>\n",
       "      <td>2.087215e+05</td>\n",
       "      <td>1.073152e+05</td>\n",
       "      <td>1.442584e+05</td>\n",
       "      <td>9.430367e+05</td>\n",
       "      <td>1.111909e+06</td>\n",
       "      <td>0.000000e+00</td>\n",
       "      <td>0.000000e+00</td>\n",
       "    </tr>\n",
       "    <tr>\n",
       "      <th>max</th>\n",
       "      <td>7.430000e+02</td>\n",
       "      <td>9.244552e+07</td>\n",
       "      <td>5.958504e+07</td>\n",
       "      <td>4.958504e+07</td>\n",
       "      <td>3.560159e+08</td>\n",
       "      <td>3.561793e+08</td>\n",
       "      <td>1.000000e+00</td>\n",
       "      <td>1.000000e+00</td>\n",
       "    </tr>\n",
       "  </tbody>\n",
       "</table>\n",
       "</div>"
      ],
      "text/plain": [
       "               step        amount  oldbalanceOrg  newbalanceOrig  \\\n",
       "count  6.362620e+06  6.362620e+06   6.362620e+06    6.362620e+06   \n",
       "mean   2.433972e+02  1.798619e+05   8.338831e+05    8.551137e+05   \n",
       "std    1.423320e+02  6.038582e+05   2.888243e+06    2.924049e+06   \n",
       "min    1.000000e+00  0.000000e+00   0.000000e+00    0.000000e+00   \n",
       "25%    1.560000e+02  1.338957e+04   0.000000e+00    0.000000e+00   \n",
       "50%    2.390000e+02  7.487194e+04   1.420800e+04    0.000000e+00   \n",
       "75%    3.350000e+02  2.087215e+05   1.073152e+05    1.442584e+05   \n",
       "max    7.430000e+02  9.244552e+07   5.958504e+07    4.958504e+07   \n",
       "\n",
       "       oldbalanceDest  newbalanceDest       isFraud  isFlaggedFraud  \n",
       "count    6.362620e+06    6.362620e+06  6.362620e+06    6.362620e+06  \n",
       "mean     1.100702e+06    1.224996e+06  1.290820e-03    2.514687e-06  \n",
       "std      3.399180e+06    3.674129e+06  3.590480e-02    1.585775e-03  \n",
       "min      0.000000e+00    0.000000e+00  0.000000e+00    0.000000e+00  \n",
       "25%      0.000000e+00    0.000000e+00  0.000000e+00    0.000000e+00  \n",
       "50%      1.327057e+05    2.146614e+05  0.000000e+00    0.000000e+00  \n",
       "75%      9.430367e+05    1.111909e+06  0.000000e+00    0.000000e+00  \n",
       "max      3.560159e+08    3.561793e+08  1.000000e+00    1.000000e+00  "
      ]
     },
     "execution_count": 5,
     "metadata": {},
     "output_type": "execute_result"
    }
   ],
   "source": [
    "#calculating the statistical measures about data\n",
    "Fraud_data.describe()"
   ]
  },
  {
   "cell_type": "markdown",
   "id": "39b3be7d-1cb6-4b83-8c2a-4cda5b043948",
   "metadata": {},
   "source": [
    "### Handle Missing Values"
   ]
  },
  {
   "cell_type": "code",
   "execution_count": 6,
   "id": "fe00d20c-4bd0-41ea-b364-71364c1d69fb",
   "metadata": {},
   "outputs": [
    {
     "data": {
      "text/plain": [
       "step              0\n",
       "type              0\n",
       "amount            0\n",
       "nameOrig          0\n",
       "oldbalanceOrg     0\n",
       "newbalanceOrig    0\n",
       "nameDest          0\n",
       "oldbalanceDest    0\n",
       "newbalanceDest    0\n",
       "isFraud           0\n",
       "isFlaggedFraud    0\n",
       "dtype: int64"
      ]
     },
     "execution_count": 6,
     "metadata": {},
     "output_type": "execute_result"
    }
   ],
   "source": [
    "# checking the null values\n",
    "Fraud_data.isnull().sum()"
   ]
  },
  {
   "cell_type": "code",
   "execution_count": 7,
   "id": "7201ae38-2bf6-4694-9ea6-f694d2f82329",
   "metadata": {},
   "outputs": [
    {
     "data": {
      "text/plain": [
       "(6362620, 11)"
      ]
     },
     "execution_count": 7,
     "metadata": {},
     "output_type": "execute_result"
    }
   ],
   "source": [
    "# finding the number of row and columns in the dataset\n",
    "Fraud_data.shape"
   ]
  },
  {
   "cell_type": "code",
   "execution_count": 8,
   "id": "dcc3c888-1476-4769-9185-745fc393bc7c",
   "metadata": {},
   "outputs": [
    {
     "data": {
      "text/plain": [
       "isFraud\n",
       "0    6354407\n",
       "1       8213\n",
       "Name: count, dtype: int64"
      ]
     },
     "execution_count": 8,
     "metadata": {},
     "output_type": "execute_result"
    }
   ],
   "source": [
    "# checking for number of fraud  0 as not fraud and 1 as fraud \n",
    "Fraud_data['isFraud'].value_counts()"
   ]
  },
  {
   "cell_type": "code",
   "execution_count": 9,
   "id": "9051e8da-ba67-4a84-affa-909ee80ee909",
   "metadata": {},
   "outputs": [
    {
     "name": "stdout",
     "output_type": "stream",
     "text": [
      "No. of Legit transactions:  6354407\n",
      "No. of Fraud transactions:  8213\n",
      "Percentage of Legit transactions: 99.87 %\n",
      "Percentage of Fraud transactions: 0.13 %\n"
     ]
    }
   ],
   "source": [
    "# unbalanced data as Percentage of Legit transactions and Percentage of Fraud transactions\n",
    "legit = len(Fraud_data[Fraud_data.isFraud == 0])\n",
    "fraud = len(Fraud_data[Fraud_data.isFraud == 1])\n",
    "legit_percent = (legit / (fraud + legit)) * 100\n",
    "fraud_percent = (fraud / (fraud + legit)) * 100\n",
    "\n",
    "print(\"No. of Legit transactions: \", legit)\n",
    "print(\"No. of Fraud transactions: \", fraud)\n",
    "print(\"Percentage of Legit transactions: {:.2f} %\".format(legit_percent))\n",
    "print(\"Percentage of Fraud transactions: {:.2f} %\".format(fraud_percent))"
   ]
  },
  {
   "cell_type": "code",
   "execution_count": 10,
   "id": "f131055a-269b-4ae4-bf3e-0b4b4d5dea07",
   "metadata": {},
   "outputs": [
    {
     "data": {
      "text/html": [
       "<div>\n",
       "<style scoped>\n",
       "    .dataframe tbody tr th:only-of-type {\n",
       "        vertical-align: middle;\n",
       "    }\n",
       "\n",
       "    .dataframe tbody tr th {\n",
       "        vertical-align: top;\n",
       "    }\n",
       "\n",
       "    .dataframe thead th {\n",
       "        text-align: right;\n",
       "    }\n",
       "</style>\n",
       "<table border=\"1\" class=\"dataframe\">\n",
       "  <thead>\n",
       "    <tr style=\"text-align: right;\">\n",
       "      <th></th>\n",
       "      <th>step</th>\n",
       "      <th>type</th>\n",
       "      <th>amount</th>\n",
       "      <th>nameOrig</th>\n",
       "      <th>oldbalanceOrg</th>\n",
       "      <th>newbalanceOrig</th>\n",
       "      <th>nameDest</th>\n",
       "      <th>oldbalanceDest</th>\n",
       "      <th>newbalanceDest</th>\n",
       "      <th>isFraud</th>\n",
       "      <th>isFlaggedFraud</th>\n",
       "    </tr>\n",
       "  </thead>\n",
       "  <tbody>\n",
       "    <tr>\n",
       "      <th>0</th>\n",
       "      <td>1</td>\n",
       "      <td>PAYMENT</td>\n",
       "      <td>9839.64</td>\n",
       "      <td>C1231006815</td>\n",
       "      <td>170136.0</td>\n",
       "      <td>160296.36</td>\n",
       "      <td>M1979787155</td>\n",
       "      <td>0.0</td>\n",
       "      <td>0.0</td>\n",
       "      <td>0</td>\n",
       "      <td>0</td>\n",
       "    </tr>\n",
       "    <tr>\n",
       "      <th>1</th>\n",
       "      <td>1</td>\n",
       "      <td>PAYMENT</td>\n",
       "      <td>1864.28</td>\n",
       "      <td>C1666544295</td>\n",
       "      <td>21249.0</td>\n",
       "      <td>19384.72</td>\n",
       "      <td>M2044282225</td>\n",
       "      <td>0.0</td>\n",
       "      <td>0.0</td>\n",
       "      <td>0</td>\n",
       "      <td>0</td>\n",
       "    </tr>\n",
       "    <tr>\n",
       "      <th>4</th>\n",
       "      <td>1</td>\n",
       "      <td>PAYMENT</td>\n",
       "      <td>11668.14</td>\n",
       "      <td>C2048537720</td>\n",
       "      <td>41554.0</td>\n",
       "      <td>29885.86</td>\n",
       "      <td>M1230701703</td>\n",
       "      <td>0.0</td>\n",
       "      <td>0.0</td>\n",
       "      <td>0</td>\n",
       "      <td>0</td>\n",
       "    </tr>\n",
       "    <tr>\n",
       "      <th>5</th>\n",
       "      <td>1</td>\n",
       "      <td>PAYMENT</td>\n",
       "      <td>7817.71</td>\n",
       "      <td>C90045638</td>\n",
       "      <td>53860.0</td>\n",
       "      <td>46042.29</td>\n",
       "      <td>M573487274</td>\n",
       "      <td>0.0</td>\n",
       "      <td>0.0</td>\n",
       "      <td>0</td>\n",
       "      <td>0</td>\n",
       "    </tr>\n",
       "    <tr>\n",
       "      <th>6</th>\n",
       "      <td>1</td>\n",
       "      <td>PAYMENT</td>\n",
       "      <td>7107.77</td>\n",
       "      <td>C154988899</td>\n",
       "      <td>183195.0</td>\n",
       "      <td>176087.23</td>\n",
       "      <td>M408069119</td>\n",
       "      <td>0.0</td>\n",
       "      <td>0.0</td>\n",
       "      <td>0</td>\n",
       "      <td>0</td>\n",
       "    </tr>\n",
       "  </tbody>\n",
       "</table>\n",
       "</div>"
      ],
      "text/plain": [
       "   step     type    amount     nameOrig  oldbalanceOrg  newbalanceOrig  \\\n",
       "0     1  PAYMENT   9839.64  C1231006815       170136.0       160296.36   \n",
       "1     1  PAYMENT   1864.28  C1666544295        21249.0        19384.72   \n",
       "4     1  PAYMENT  11668.14  C2048537720        41554.0        29885.86   \n",
       "5     1  PAYMENT   7817.71    C90045638        53860.0        46042.29   \n",
       "6     1  PAYMENT   7107.77   C154988899       183195.0       176087.23   \n",
       "\n",
       "      nameDest  oldbalanceDest  newbalanceDest  isFraud  isFlaggedFraud  \n",
       "0  M1979787155             0.0             0.0        0               0  \n",
       "1  M2044282225             0.0             0.0        0               0  \n",
       "4  M1230701703             0.0             0.0        0               0  \n",
       "5   M573487274             0.0             0.0        0               0  \n",
       "6   M408069119             0.0             0.0        0               0  "
      ]
     },
     "execution_count": 10,
     "metadata": {},
     "output_type": "execute_result"
    }
   ],
   "source": [
    "# Note that there is not information for customers that start with M (Merchants).\n",
    "Merchant = Fraud_data[Fraud_data['nameDest'].str.contains('M')]\n",
    "Merchant.head()"
   ]
  },
  {
   "cell_type": "code",
   "execution_count": 11,
   "id": "d0e19ff9-3887-4567-8bc4-297d7095c300",
   "metadata": {},
   "outputs": [
    {
     "data": {
      "text/plain": [
       "(2151495, 11)"
      ]
     },
     "execution_count": 11,
     "metadata": {},
     "output_type": "execute_result"
    }
   ],
   "source": [
    "Merchant.shape"
   ]
  },
  {
   "cell_type": "code",
   "execution_count": 12,
   "id": "b957dca2-378b-43a5-8126-f31c6baf1f1f",
   "metadata": {},
   "outputs": [
    {
     "data": {
      "text/plain": [
       "['step',\n",
       " 'type',\n",
       " 'amount',\n",
       " 'nameOrig',\n",
       " 'oldbalanceOrg',\n",
       " 'newbalanceOrig',\n",
       " 'nameDest',\n",
       " 'oldbalanceDest',\n",
       " 'newbalanceDest',\n",
       " 'isFraud',\n",
       " 'isFlaggedFraud']"
      ]
     },
     "execution_count": 12,
     "metadata": {},
     "output_type": "execute_result"
    }
   ],
   "source": [
    "# list of columns\n",
    "Fraud_data.columns.tolist()"
   ]
  },
  {
   "cell_type": "markdown",
   "id": "b5556b81-6e67-4b97-83fa-0bd92ecd0b37",
   "metadata": {},
   "source": [
    "### LABEL ENCODING"
   ]
  },
  {
   "cell_type": "code",
   "execution_count": 13,
   "id": "598d39f1-8de6-4e7d-a8b1-becb46e358de",
   "metadata": {},
   "outputs": [
    {
     "name": "stdout",
     "output_type": "stream",
     "text": [
      "            nameDest  nameDest_encoded\n",
      "0        M1979787155                 0\n",
      "1        M2044282225                 0\n",
      "2         C553264065                 1\n",
      "3          C38997010                 1\n",
      "4        M1230701703                 0\n",
      "...              ...               ...\n",
      "6362615   C776919290                 1\n",
      "6362616  C1881841831                 1\n",
      "6362617  C1365125890                 1\n",
      "6362618  C2080388513                 1\n",
      "6362619   C873221189                 1\n",
      "\n",
      "[6362620 rows x 2 columns]\n"
     ]
    }
   ],
   "source": [
    "def label_encode_nameDest(nameDest):\n",
    "    if nameDest.startswith('M'):\n",
    "        return 0\n",
    "    elif nameDest.startswith('C'):\n",
    "        return 1\n",
    "    else:\n",
    "        return None  # Handle other cases if necessary\n",
    "\n",
    "Fraud_data['nameDest_encoded'] = Fraud_data['nameDest'].apply(label_encode_nameDest)\n",
    "\n",
    "# Display the updated DataFrame\n",
    "print(Fraud_data[['nameDest', 'nameDest_encoded']])"
   ]
  },
  {
   "cell_type": "code",
   "execution_count": 14,
   "id": "61e8e7ad-a823-4062-b69b-eae234a53605",
   "metadata": {},
   "outputs": [],
   "source": [
    "# object to numeric conversion\n",
    "from sklearn.preprocessing import LabelEncoder\n",
    "le = LabelEncoder()\n",
    "Fraud_data['Transation_type_code'] = le.fit_transform(Fraud_data['type'])"
   ]
  },
  {
   "cell_type": "code",
   "execution_count": 15,
   "id": "8f1be381-497e-42fe-8a93-46e9d07f5b4d",
   "metadata": {},
   "outputs": [
    {
     "data": {
      "text/html": [
       "<div>\n",
       "<style scoped>\n",
       "    .dataframe tbody tr th:only-of-type {\n",
       "        vertical-align: middle;\n",
       "    }\n",
       "\n",
       "    .dataframe tbody tr th {\n",
       "        vertical-align: top;\n",
       "    }\n",
       "\n",
       "    .dataframe thead th {\n",
       "        text-align: right;\n",
       "    }\n",
       "</style>\n",
       "<table border=\"1\" class=\"dataframe\">\n",
       "  <thead>\n",
       "    <tr style=\"text-align: right;\">\n",
       "      <th></th>\n",
       "      <th>step</th>\n",
       "      <th>type</th>\n",
       "      <th>amount</th>\n",
       "      <th>nameOrig</th>\n",
       "      <th>oldbalanceOrg</th>\n",
       "      <th>newbalanceOrig</th>\n",
       "      <th>nameDest</th>\n",
       "      <th>oldbalanceDest</th>\n",
       "      <th>newbalanceDest</th>\n",
       "      <th>isFraud</th>\n",
       "      <th>isFlaggedFraud</th>\n",
       "      <th>nameDest_encoded</th>\n",
       "      <th>Transation_type_code</th>\n",
       "    </tr>\n",
       "  </thead>\n",
       "  <tbody>\n",
       "    <tr>\n",
       "      <th>0</th>\n",
       "      <td>1</td>\n",
       "      <td>PAYMENT</td>\n",
       "      <td>9839.64</td>\n",
       "      <td>C1231006815</td>\n",
       "      <td>170136.0</td>\n",
       "      <td>160296.36</td>\n",
       "      <td>M1979787155</td>\n",
       "      <td>0.0</td>\n",
       "      <td>0.0</td>\n",
       "      <td>0</td>\n",
       "      <td>0</td>\n",
       "      <td>0</td>\n",
       "      <td>3</td>\n",
       "    </tr>\n",
       "    <tr>\n",
       "      <th>1</th>\n",
       "      <td>1</td>\n",
       "      <td>PAYMENT</td>\n",
       "      <td>1864.28</td>\n",
       "      <td>C1666544295</td>\n",
       "      <td>21249.0</td>\n",
       "      <td>19384.72</td>\n",
       "      <td>M2044282225</td>\n",
       "      <td>0.0</td>\n",
       "      <td>0.0</td>\n",
       "      <td>0</td>\n",
       "      <td>0</td>\n",
       "      <td>0</td>\n",
       "      <td>3</td>\n",
       "    </tr>\n",
       "    <tr>\n",
       "      <th>2</th>\n",
       "      <td>1</td>\n",
       "      <td>TRANSFER</td>\n",
       "      <td>181.00</td>\n",
       "      <td>C1305486145</td>\n",
       "      <td>181.0</td>\n",
       "      <td>0.00</td>\n",
       "      <td>C553264065</td>\n",
       "      <td>0.0</td>\n",
       "      <td>0.0</td>\n",
       "      <td>1</td>\n",
       "      <td>0</td>\n",
       "      <td>1</td>\n",
       "      <td>4</td>\n",
       "    </tr>\n",
       "    <tr>\n",
       "      <th>3</th>\n",
       "      <td>1</td>\n",
       "      <td>CASH_OUT</td>\n",
       "      <td>181.00</td>\n",
       "      <td>C840083671</td>\n",
       "      <td>181.0</td>\n",
       "      <td>0.00</td>\n",
       "      <td>C38997010</td>\n",
       "      <td>21182.0</td>\n",
       "      <td>0.0</td>\n",
       "      <td>1</td>\n",
       "      <td>0</td>\n",
       "      <td>1</td>\n",
       "      <td>1</td>\n",
       "    </tr>\n",
       "    <tr>\n",
       "      <th>4</th>\n",
       "      <td>1</td>\n",
       "      <td>PAYMENT</td>\n",
       "      <td>11668.14</td>\n",
       "      <td>C2048537720</td>\n",
       "      <td>41554.0</td>\n",
       "      <td>29885.86</td>\n",
       "      <td>M1230701703</td>\n",
       "      <td>0.0</td>\n",
       "      <td>0.0</td>\n",
       "      <td>0</td>\n",
       "      <td>0</td>\n",
       "      <td>0</td>\n",
       "      <td>3</td>\n",
       "    </tr>\n",
       "  </tbody>\n",
       "</table>\n",
       "</div>"
      ],
      "text/plain": [
       "   step      type    amount     nameOrig  oldbalanceOrg  newbalanceOrig  \\\n",
       "0     1   PAYMENT   9839.64  C1231006815       170136.0       160296.36   \n",
       "1     1   PAYMENT   1864.28  C1666544295        21249.0        19384.72   \n",
       "2     1  TRANSFER    181.00  C1305486145          181.0            0.00   \n",
       "3     1  CASH_OUT    181.00   C840083671          181.0            0.00   \n",
       "4     1   PAYMENT  11668.14  C2048537720        41554.0        29885.86   \n",
       "\n",
       "      nameDest  oldbalanceDest  newbalanceDest  isFraud  isFlaggedFraud  \\\n",
       "0  M1979787155             0.0             0.0        0               0   \n",
       "1  M2044282225             0.0             0.0        0               0   \n",
       "2   C553264065             0.0             0.0        1               0   \n",
       "3    C38997010         21182.0             0.0        1               0   \n",
       "4  M1230701703             0.0             0.0        0               0   \n",
       "\n",
       "   nameDest_encoded  Transation_type_code  \n",
       "0                 0                     3  \n",
       "1                 0                     3  \n",
       "2                 1                     4  \n",
       "3                 1                     1  \n",
       "4                 0                     3  "
      ]
     },
     "execution_count": 15,
     "metadata": {},
     "output_type": "execute_result"
    }
   ],
   "source": [
    "Fraud_data.head()"
   ]
  },
  {
   "cell_type": "markdown",
   "id": "a727a37c-4a8c-4f63-a63b-9b6c393bb889",
   "metadata": {},
   "source": [
    "## Data Visulization"
   ]
  },
  {
   "cell_type": "code",
   "execution_count": 16,
   "id": "4aaf8607-7a4d-45b7-877c-c286aaa29c2c",
   "metadata": {},
   "outputs": [
    {
     "data": {
      "image/png": "[encoded data removed]",
      "text/plain": [
       "<Figure size 700x700 with 1 Axes>"
      ]
     },
     "metadata": {},
     "output_type": "display_data"
    }
   ],
   "source": [
    "# Number of legit and fraud transactions\n",
    "plt.figure(figsize=(7, 7))\n",
    "labels = [\"Legit\", \"Fraud\"]\n",
    "count_classes = Fraud_data['isFraud'].value_counts(sort=True)\n",
    "\n",
    "# Plot a pie chart\n",
    "plt.pie(count_classes, labels=labels, autopct='%1.2f%%', startangle=140, colors=['#66b3ff', '#ff6666'])\n",
    "plt.title(\"Visualization of Legit and Fraud Labels\")\n",
    "plt.axis('equal')  # Equal aspect ratio ensures that pie is drawn as a circle.\n",
    "plt.show()"
   ]
  },
  {
   "cell_type": "markdown",
   "id": "7f93b803-bc47-4374-be68-79922b710e11",
   "metadata": {},
   "source": [
    "### Multicollinearity"
   ]
  },
  {
   "cell_type": "code",
   "execution_count": 17,
   "id": "f84e3f1a-d830-43b1-8113-c0499da6091c",
   "metadata": {},
   "outputs": [
    {
     "data": {
      "image/png": "[encoded data removed]",
      "text/plain": [
       "<Figure size 1000x800 with 2 Axes>"
      ]
     },
     "metadata": {},
     "output_type": "display_data"
    }
   ],
   "source": [
    "# Drop columns if they exist\n",
    "Fraud_data = Fraud_data.drop(columns=['type', 'nameOrig', 'nameDest'], errors='ignore')\n",
    "\n",
    "# Calculate the correlation matrix\n",
    "corr = Fraud_data.corr()\n",
    "\n",
    "# Plot the heatmap\n",
    "plt.figure(figsize=(10, 8))\n",
    "sns.heatmap(corr, annot=True, cmap='coolwarm', fmt=\".2f\")\n",
    "plt.title('Feature Correlation Heatmap')\n",
    "plt.show()\n"
   ]
  },
  {
   "cell_type": "markdown",
   "id": "17bf0d9e-ecb2-4d0c-b2c1-e21651b46d2b",
   "metadata": {},
   "source": [
    "### Outliers"
   ]
  },
  {
   "cell_type": "code",
   "execution_count": 18,
   "id": "1b07daa1-1eea-47e7-94bd-2691c147dd16",
   "metadata": {},
   "outputs": [],
   "source": [
    "# Function to remove outliers using IQR\n",
    "def remove_outliers(Fraud_data, column):\n",
    "    Q1 = Fraud_data[column].quantile(0.25)\n",
    "    Q3 = Fraud_data[column].quantile(0.75)\n",
    "    IQR = Q3 - Q1\n",
    "    lower_bound = Q1 - 1.5 * IQR\n",
    "    upper_bound = Q3 + 1.5 * IQR\n",
    "    return Fraud_data[(Fraud_data[column] >= lower_bound) & (Fraud_data[column] <= upper_bound)]\n",
    "\n",
    "# Remove outliers from specific columns\n",
    "for column in ['amount', 'oldbalanceOrg', 'newbalanceOrig', 'oldbalanceDest', 'newbalanceDest']:\n",
    "    Fraud_data = remove_outliers(Fraud_data, column)"
   ]
  },
  {
   "cell_type": "code",
   "execution_count": 19,
   "id": "1098efed-d468-4255-a15a-18a2a6b17c29",
   "metadata": {},
   "outputs": [],
   "source": [
    "x = Fraud_data.drop(columns = 'isFraud', axis = 1)\n",
    "y = Fraud_data['isFraud']"
   ]
  },
  {
   "cell_type": "code",
   "execution_count": 20,
   "id": "da7bc004-4d6c-4f54-9197-f54fc5c544b5",
   "metadata": {},
   "outputs": [
    {
     "data": {
      "text/html": [
       "<div>\n",
       "<style scoped>\n",
       "    .dataframe tbody tr th:only-of-type {\n",
       "        vertical-align: middle;\n",
       "    }\n",
       "\n",
       "    .dataframe tbody tr th {\n",
       "        vertical-align: top;\n",
       "    }\n",
       "\n",
       "    .dataframe thead th {\n",
       "        text-align: right;\n",
       "    }\n",
       "</style>\n",
       "<table border=\"1\" class=\"dataframe\">\n",
       "  <thead>\n",
       "    <tr style=\"text-align: right;\">\n",
       "      <th></th>\n",
       "      <th>step</th>\n",
       "      <th>amount</th>\n",
       "      <th>oldbalanceOrg</th>\n",
       "      <th>newbalanceOrig</th>\n",
       "      <th>oldbalanceDest</th>\n",
       "      <th>newbalanceDest</th>\n",
       "      <th>isFlaggedFraud</th>\n",
       "      <th>nameDest_encoded</th>\n",
       "      <th>Transation_type_code</th>\n",
       "    </tr>\n",
       "  </thead>\n",
       "  <tbody>\n",
       "    <tr>\n",
       "      <th>1</th>\n",
       "      <td>1</td>\n",
       "      <td>1864.28</td>\n",
       "      <td>21249.0</td>\n",
       "      <td>19384.72</td>\n",
       "      <td>0.0</td>\n",
       "      <td>0.0</td>\n",
       "      <td>0</td>\n",
       "      <td>0</td>\n",
       "      <td>3</td>\n",
       "    </tr>\n",
       "    <tr>\n",
       "      <th>2</th>\n",
       "      <td>1</td>\n",
       "      <td>181.00</td>\n",
       "      <td>181.0</td>\n",
       "      <td>0.00</td>\n",
       "      <td>0.0</td>\n",
       "      <td>0.0</td>\n",
       "      <td>0</td>\n",
       "      <td>1</td>\n",
       "      <td>4</td>\n",
       "    </tr>\n",
       "    <tr>\n",
       "      <th>3</th>\n",
       "      <td>1</td>\n",
       "      <td>181.00</td>\n",
       "      <td>181.0</td>\n",
       "      <td>0.00</td>\n",
       "      <td>21182.0</td>\n",
       "      <td>0.0</td>\n",
       "      <td>0</td>\n",
       "      <td>1</td>\n",
       "      <td>1</td>\n",
       "    </tr>\n",
       "    <tr>\n",
       "      <th>4</th>\n",
       "      <td>1</td>\n",
       "      <td>11668.14</td>\n",
       "      <td>41554.0</td>\n",
       "      <td>29885.86</td>\n",
       "      <td>0.0</td>\n",
       "      <td>0.0</td>\n",
       "      <td>0</td>\n",
       "      <td>0</td>\n",
       "      <td>3</td>\n",
       "    </tr>\n",
       "    <tr>\n",
       "      <th>5</th>\n",
       "      <td>1</td>\n",
       "      <td>7817.71</td>\n",
       "      <td>53860.0</td>\n",
       "      <td>46042.29</td>\n",
       "      <td>0.0</td>\n",
       "      <td>0.0</td>\n",
       "      <td>0</td>\n",
       "      <td>0</td>\n",
       "      <td>3</td>\n",
       "    </tr>\n",
       "  </tbody>\n",
       "</table>\n",
       "</div>"
      ],
      "text/plain": [
       "   step    amount  oldbalanceOrg  newbalanceOrig  oldbalanceDest  \\\n",
       "1     1   1864.28        21249.0        19384.72             0.0   \n",
       "2     1    181.00          181.0            0.00             0.0   \n",
       "3     1    181.00          181.0            0.00         21182.0   \n",
       "4     1  11668.14        41554.0        29885.86             0.0   \n",
       "5     1   7817.71        53860.0        46042.29             0.0   \n",
       "\n",
       "   newbalanceDest  isFlaggedFraud  nameDest_encoded  Transation_type_code  \n",
       "1             0.0               0                 0                     3  \n",
       "2             0.0               0                 1                     4  \n",
       "3             0.0               0                 1                     1  \n",
       "4             0.0               0                 0                     3  \n",
       "5             0.0               0                 0                     3  "
      ]
     },
     "execution_count": 20,
     "metadata": {},
     "output_type": "execute_result"
    }
   ],
   "source": [
    "x.head() # first 5 rows"
   ]
  },
  {
   "cell_type": "code",
   "execution_count": 21,
   "id": "6830d57c-3ff4-4132-8a04-68641b113d62",
   "metadata": {},
   "outputs": [
    {
     "data": {
      "text/plain": [
       "6362605    1\n",
       "6362608    1\n",
       "6362609    1\n",
       "6362610    1\n",
       "6362611    1\n",
       "Name: isFraud, dtype: int64"
      ]
     },
     "execution_count": 21,
     "metadata": {},
     "output_type": "execute_result"
    }
   ],
   "source": [
    "y.tail()  # last 5 rows"
   ]
  },
  {
   "cell_type": "code",
   "execution_count": 22,
   "id": "66de9b27-eac9-4e45-99ba-58bc76b58e9f",
   "metadata": {},
   "outputs": [],
   "source": [
    "# Split the data into training and test sets\n",
    "x_train, x_test, y_train, y_test = train_test_split(x, y, test_size=0.2, random_state=22)"
   ]
  },
  {
   "cell_type": "code",
   "execution_count": 23,
   "id": "158f563e-7c39-4aff-b525-7e4a30fe7f99",
   "metadata": {},
   "outputs": [
    {
     "name": "stdout",
     "output_type": "stream",
     "text": [
      "Random Forest Accuracy: 0.9996109380238112\n",
      "Random Forest Classification Report:\n",
      "               precision    recall  f1-score   support\n",
      "\n",
      "           0       1.00      1.00      1.00    649687\n",
      "           1       0.97      0.59      0.74       595\n",
      "\n",
      "    accuracy                           1.00    650282\n",
      "   macro avg       0.98      0.80      0.87    650282\n",
      "weighted avg       1.00      1.00      1.00    650282\n",
      "\n"
     ]
    }
   ],
   "source": [
    "# Random Forest Classifier\n",
    "random_forest = RandomForestClassifier(random_state=22)\n",
    "random_forest.fit(x_train, y_train)\n",
    "y_pred_random_forest = random_forest.predict(x_test)\n",
    "random_forest_accuracy = accuracy_score(y_test, y_pred_random_forest)\n",
    "print(\"Random Forest Accuracy:\", random_forest_accuracy)\n",
    "print(\"Random Forest Classification Report:\\n\", classification_report(y_test, y_pred_random_forest))"
   ]
  },
  {
   "cell_type": "code",
   "execution_count": 24,
   "id": "ce2e49d2-f9b1-4d1f-9ed3-bb81cdc8e6cd",
   "metadata": {},
   "outputs": [
    {
     "name": "stdout",
     "output_type": "stream",
     "text": [
      "Decision Tree Accuracy: 0.999604786846322\n",
      "Decision Tree Classification Report:\n",
      "               precision    recall  f1-score   support\n",
      "\n",
      "           0       1.00      1.00      1.00    649687\n",
      "           1       0.80      0.75      0.78       595\n",
      "\n",
      "    accuracy                           1.00    650282\n",
      "   macro avg       0.90      0.88      0.89    650282\n",
      "weighted avg       1.00      1.00      1.00    650282\n",
      "\n"
     ]
    }
   ],
   "source": [
    "# Decision Tree Classifier\n",
    "decision_tree = DecisionTreeClassifier(random_state=22)\n",
    "decision_tree.fit(x_train, y_train)\n",
    "y_pred_decision_tree = decision_tree.predict(x_test)\n",
    "decision_tree_accuracy = accuracy_score(y_test, y_pred_decision_tree)\n",
    "print(\"Decision Tree Accuracy:\", decision_tree_accuracy)\n",
    "print(\"Decision Tree Classification Report:\\n\", classification_report(y_test, y_pred_decision_tree))"
   ]
  },
  {
   "cell_type": "code",
   "execution_count": 26,
   "id": "13da28ef-6e85-40b5-a7f3-4ae0b542d92f",
   "metadata": {},
   "outputs": [
    {
     "name": "stdout",
     "output_type": "stream",
     "text": [
      "Random Forest Classifier Score:  99.96109380238111\n",
      "Decision Tree Score:  99.9604786846322\n"
     ]
    }
   ],
   "source": [
    "# Print scores of our classifiers\n",
    "print(\"Random Forest Classifier Score: \", random_forest_accuracy*100)\n",
    "print(\"Decision Tree Score: \", decision_tree_accuracy*100)"
   ]
  },
  {
   "cell_type": "code",
   "execution_count": 39,
   "id": "8d4e63f0-d348-4cba-89a6-3c696c6ae780",
   "metadata": {},
   "outputs": [
    {
     "name": "stdout",
     "output_type": "stream",
     "text": [
      "Decision Tree Accuracy: 0.999604786846322\n",
      "Decision Tree Classification Report:\n",
      "               precision    recall  f1-score   support\n",
      "\n",
      "           0       1.00      1.00      1.00    649687\n",
      "           1       0.80      0.75      0.78       595\n",
      "\n",
      "    accuracy                           1.00    650282\n",
      "   macro avg       0.90      0.88      0.89    650282\n",
      "weighted avg       1.00      1.00      1.00    650282\n",
      "\n",
      "Decision Tree Confusion Matrix:\n",
      " [[649578    109]\n",
      " [   148    447]]\n",
      "Decision Tree AUC-ROC: 0.8755463655523946\n",
      "Random Forest Accuracy: 0.9996109380238112\n",
      "Random Forest Classification Report:\n",
      "               precision    recall  f1-score   support\n",
      "\n",
      "           0       1.00      1.00      1.00    649687\n",
      "           1       0.97      0.59      0.74       595\n",
      "\n",
      "    accuracy                           1.00    650282\n",
      "   macro avg       0.98      0.80      0.87    650282\n",
      "weighted avg       1.00      1.00      1.00    650282\n",
      "\n",
      "Random Forest Confusion Matrix:\n",
      " [[649675     12]\n",
      " [   241    354]]\n",
      "Random Forest AUC-ROC: 0.9836691625765803\n"
     ]
    }
   ],
   "source": [
    "# Decision Tree Evaluation\n",
    "y_pred_decision_tree = decision_tree.predict(x_test)\n",
    "print(\"Decision Tree Accuracy:\", accuracy_score(y_test, y_pred_decision_tree))\n",
    "print(\"Decision Tree Classification Report:\\n\", classification_report(y_test, y_pred_decision_tree))\n",
    "print(\"Decision Tree Confusion Matrix:\\n\", confusion_matrix(y_test, y_pred_decision_tree))\n",
    "print(\"Decision Tree AUC-ROC:\", roc_auc_score(y_test, decision_tree.predict_proba(x_test)[:, 1]))\n",
    "\n",
    "# Random Forest Evaluation\n",
    "y_pred_random_forest = random_forest.predict(x_test)\n",
    "print(\"Random Forest Accuracy:\", accuracy_score(y_test, y_pred_random_forest))\n",
    "print(\"Random Forest Classification Report:\\n\", classification_report(y_test, y_pred_random_forest))\n",
    "print(\"Random Forest Confusion Matrix:\\n\", confusion_matrix(y_test, y_pred_random_forest))\n",
    "print(\"Random Forest AUC-ROC:\", roc_auc_score(y_test, random_forest.predict_proba(x_test)[:, 1]))\n"
   ]
  },
  {
   "cell_type": "markdown",
   "id": "c5477cfc-4784-4e81-a9e0-39d9c3c32ac5",
   "metadata": {},
   "source": [
    "### Feature Importance"
   ]
  },
  {
   "cell_type": "code",
   "execution_count": 42,
   "id": "81be2a8f-40e6-475d-aaff-cc112f3743b5",
   "metadata": {},
   "outputs": [
    {
     "name": "stdout",
     "output_type": "stream",
     "text": [
      "            feature  importance\n",
      "5    newbalanceOrig    0.373320\n",
      "2            amount    0.160300\n",
      "1      type_encoded    0.155241\n",
      "0              step    0.120342\n",
      "4     oldbalanceOrg    0.105538\n",
      "8    isFlaggedFraud    0.057111\n",
      "3  nameDest_encoded    0.025923\n",
      "7    newbalanceDest    0.002226\n",
      "6    oldbalanceDest    0.000000\n"
     ]
    }
   ],
   "source": [
    "importances = random_forest.feature_importances_\n",
    "features = ['step', 'type_encoded', 'amount', 'nameDest_encoded', 'oldbalanceOrg', 'newbalanceOrig', 'oldbalanceDest', 'newbalanceDest', 'isFlaggedFraud']\n",
    "\n",
    "feature_importance = pd.DataFrame({'feature': features, 'importance': importances})\n",
    "feature_importance = feature_importance.sort_values(by='importance', ascending=False)\n",
    "print(feature_importance)\n"
   ]
  },
  {
   "cell_type": "markdown",
   "id": "7275f2e0-3884-432e-9a53-b688e9c76033",
   "metadata": {},
   "source": [
    "### Model Prediction"
   ]
  },
  {
   "cell_type": "code",
   "execution_count": 27,
   "id": "9cc138ce-f891-4f3c-a8df-0538456d85cf",
   "metadata": {},
   "outputs": [],
   "source": [
    "# Function to take user input and convert it into the correct format\n",
    "def get_user_input():\n",
    "    step = int(input(\"Enter the step: \"))\n",
    "    Transation_type_code = int(input(\"Enter the type (encoded): \"))\n",
    "    amount = float(input(\"Enter the amount: \"))\n",
    "    nameDest_encoded = int(input(\"Enter the nameDest (encoded): \"))\n",
    "    oldbalanceOrg = float(input(\"Enter the oldbalanceOrg: \"))\n",
    "    newbalanceOrig = float(input(\"Enter the newbalanceOrig: \"))\n",
    "    oldbalanceDest = float(input(\"Enter the oldbalanceDest: \"))\n",
    "    newbalanceDest = float(input(\"Enter the newbalanceDest: \"))\n",
    "    isFlaggedFraud = int(input(\"Enter if the transaction is flagged as fraud (0 or 1): \"))\n",
    "    \n",
    "    # Create a numpy array with the inputs\n",
    "    user_data = np.array([step, Transation_type_code, amount, nameDest_encoded, oldbalanceOrg, newbalanceOrig, oldbalanceDest, newbalanceDest, isFlaggedFraud]).reshape(1, -1)\n",
    "    return user_data\n"
   ]
  },
  {
   "cell_type": "code",
   "execution_count": 28,
   "id": "015e1be3-6f8e-4d39-990d-4263e14fc6f5",
   "metadata": {},
   "outputs": [],
   "source": [
    "# Predicting function\n",
    "def predict_fraud(model, user_data):\n",
    "    prediction = model.predict(user_data)\n",
    "    return prediction[0]"
   ]
  },
  {
   "cell_type": "code",
   "execution_count": 33,
   "id": "4e4a840b-9eaa-49ca-ba7d-09d2b65e9a96",
   "metadata": {},
   "outputs": [
    {
     "name": "stdin",
     "output_type": "stream",
     "text": [
      "Enter the step:  1\n",
      "Enter the type (encoded):  3\n",
      "Enter the amount:  9839.64\n",
      "Enter the nameDest (encoded):  0\n",
      "Enter the oldbalanceOrg:  170136\n",
      "Enter the newbalanceOrig:  160296.36\n",
      "Enter the oldbalanceDest:  0\n",
      "Enter the newbalanceDest:  0\n",
      "Enter if the transaction is flagged as fraud (0 or 1):  0\n"
     ]
    }
   ],
   "source": [
    "# Taking user input\n",
    "user_data = get_user_input()"
   ]
  },
  {
   "cell_type": "code",
   "execution_count": 34,
   "id": "97285773-db87-474a-819a-a343287ec73a",
   "metadata": {},
   "outputs": [
    {
     "name": "stdout",
     "output_type": "stream",
     "text": [
      "Random Forest Prediction (1 = Fraud, 0 = Not Fraud): 0\n"
     ]
    },
    {
     "name": "stderr",
     "output_type": "stream",
     "text": [
      "C:\\Users\\utkar\\AppData\\Local\\Programs\\Python\\Python312\\Lib\\site-packages\\sklearn\\base.py:493: UserWarning: X does not have valid feature names, but RandomForestClassifier was fitted with feature names\n",
      "  warnings.warn(\n"
     ]
    }
   ],
   "source": [
    "# Random Forest Prediction\n",
    "random_forest_prediction = predict_fraud(random_forest, user_data)\n",
    "print(\"Random Forest Prediction (1 = Fraud, 0 = Not Fraud):\", random_forest_prediction)"
   ]
  },
  {
   "cell_type": "code",
   "execution_count": 35,
   "id": "e3c0e97e-7624-409f-a86b-f344790a9ad3",
   "metadata": {},
   "outputs": [
    {
     "name": "stdout",
     "output_type": "stream",
     "text": [
      "Decision Tree Prediction (1 = Fraud, 0 = Not Fraud): 0\n"
     ]
    },
    {
     "name": "stderr",
     "output_type": "stream",
     "text": [
      "C:\\Users\\utkar\\AppData\\Local\\Programs\\Python\\Python312\\Lib\\site-packages\\sklearn\\base.py:493: UserWarning: X does not have valid feature names, but DecisionTreeClassifier was fitted with feature names\n",
      "  warnings.warn(\n"
     ]
    }
   ],
   "source": [
    "# Decision Tree Prediction\n",
    "decision_tree_prediction = predict_fraud(decision_tree, user_data)\n",
    "print(\"Decision Tree Prediction (1 = Fraud, 0 = Not Fraud):\", decision_tree_prediction)"
   ]
  },
  {
   "cell_type": "markdown",
   "id": "9ccff1bc-a262-4b10-a2ec-94790e9a4eec",
   "metadata": {},
   "source": [
    "## Describe Your Fraud Detection Model in Elaboration\n",
    "We will use two different models to predict fraudulent transactions: Decision Tree, and Random Forest. These models are chosen because they provide a good mix of interpretability and performance."
   ]
  },
  {
   "cell_type": "markdown",
   "id": "ee676c87-b587-4c51-86de-b2c98956fd3a",
   "metadata": {},
   "source": [
    "### How Did You Select Variables to Be Included in the Model?\n",
    "The variables were chosen based on their significance to the identification of fraudulent transactions. Characteristics including, amount, oldbalanceOrg, newbalanceOrig, oldbalanceDest, and newbalanceDest are significant as they give the financial data of the transactions directly. The transaction type and its destination account are also of great importance because they can show up patterns of fraud."
   ]
  },
  {
   "cell_type": "markdown",
   "id": "30706984-9d2d-4a17-af96-9dd7738e599d",
   "metadata": {},
   "source": [
    "###  Do These Factors Make Sense? If Yes, How? If Not, How Not?\n",
    "#### Yes, these factors make sense:\n",
    "\n",
    "Amount: Large sums of unauthorized transactions can be the ones that are suspected to be the fraud.\n",
    "\n",
    "Balance Changes: Distinct differences between the current balance and the old balance may raise a concern of the possibility of some unauthorized transactions.\n",
    "\n",
    "Type of Transaction: Some transfers of funds (debit S/O deposit) are done through an electronic banking system. g. , 'cash_out', 'transfers', also credit transfers can be manipulated by user.\n",
    "\n",
    "Destination of Transaction: Fraudsters frequently move money to particular accounts, hence, the patterns in the 'nameDest' may be indicative enough between good and bad accounts."
   ]
  },
  {
   "cell_type": "markdown",
   "id": "9566b6a9-752d-4b0b-808a-9b4dab763fe5",
   "metadata": {},
   "source": [
    "## What Kind of Prevention Should Be Adopted While Company Updates Its Infrastructure?\n",
    "1. Use multi-factor authentication for transaction verification.\n",
    "2. Anomaly detection\n",
    "3. Regular Audits "
   ]
  },
  {
   "cell_type": "markdown",
   "id": "608801ea-4dbc-4112-bca8-ae20bfc287e7",
   "metadata": {},
   "source": [
    "### Assuming These Actions Have Been Implemented, How Would You Determine If They Work?\n",
    "1. By evaluating model performance metrics.\n",
    "2. Gather feedback from customers in relation to fraudulent activities and their opinion on the newly applied security measures.\n",
    "3. Compare the rates of detected fraud before and after implementing the measures."
   ]
  },
  {
   "cell_type": "code",
   "execution_count": null,
   "id": "5d00721e-8f99-4f67-a6f9-87516ef51eb5",
   "metadata": {},
   "outputs": [],
   "source": []
  }
 ],
 "metadata": {
  "kernelspec": {
   "display_name": "Python 3 (ipykernel)",
   "language": "python",
   "name": "python3"
  },
  "language_info": {
   "codemirror_mode": {
    "name": "ipython",
    "version": 3
   },
   "file_extension": ".py",
   "mimetype": "text/x-python",
   "name": "python",
   "nbconvert_exporter": "python",
   "pygments_lexer": "ipython3",
   "version": "3.12.2"
  }
 },
 "nbformat": 4,
 "nbformat_minor": 5
}
